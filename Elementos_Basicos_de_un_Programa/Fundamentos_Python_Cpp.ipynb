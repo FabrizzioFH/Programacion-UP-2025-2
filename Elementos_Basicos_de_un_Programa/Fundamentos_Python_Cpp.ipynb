{
 "cells": [
  {
   "cell_type": "markdown",
   "id": "7c264a09",
   "metadata": {},
   "source": [
    "### Fundamentos de Python y C++\n",
    "\n",
    "En este cuaderno aprenderemos y compararemos los elementos esenciales de **Python** y **C++**:\n",
    "1. Tipos de datos y variables en Python vs. C++.\n",
    "2. Manejo básico de datos en Python (listas, diccionarios, NumPy arrays) y en C++ (`std::vector`).\n",
    "3. Estructuras de control y funciones: `def` (Python) vs. funciones en C++.\n",
    "4. Módulos (Python) vs. archivos `.h/.cpp` (C++)."
   ]
  },
  {
   "cell_type": "markdown",
   "id": "1869ad4f-15b3-4fe3-ba16-409c727cc113",
   "metadata": {},
   "source": [
    "## 1.1 Tipos de datos y variables en Python vs. C++\n",
    "\n",
    "### Python\n",
    "- **Tipado dinámico**: no se especifica el tipo al declarar la variable. El tipo se asigna automáticamente en tiempo de ejecución.\n",
    "- Variables: basta con escribir `nombre_variable = valor`.\n",
    "- Principales tipos primitivos:\n",
    "  - `int` (entero de precisión ilimitada)\n",
    "  - `float` (coma flotante de doble precisión por defecto)\n",
    "  - `bool` (verdadero/falso: `True`, `False`)\n",
    "  - `str` (cadenas de caracteres)\n",
    "- No se requiere una palabra clave especial para declarar variables (e.g. `var`, `let` no existen en Python).\n",
    "\n",
    "**Nota**: Para correr una celda de código de python en un archivo .ipybn (como este) se puede hacer con la combinación de teclas ```shift```+```enter```."
   ]
  },
  {
   "cell_type": "code",
   "execution_count": 2,
   "id": "b69e9571-7f54-4178-9dc0-39bf8a813024",
   "metadata": {},
   "outputs": [
    {
     "name": "stdout",
     "output_type": "stream",
     "text": [
      "<class 'int'> <class 'float'> <class 'str'> <class 'bool'>\n"
     ]
    }
   ],
   "source": [
    "# Ejemplo en Python:\n",
    "x = 10           # x es int\n",
    "y = 3.14         # y es float\n",
    "nombre = \"Ana\"  # nombre es str\n",
    "es_activo = True # bool\n",
    "\n",
    "print(type(x), type(y), type(nombre), type(es_activo))"
   ]
  },
  {
   "cell_type": "markdown",
   "id": "96046ade-36d7-454d-b882-f14a8470e419",
   "metadata": {},
   "source": [
    "Si tenemos el archivo ```TiposDatos.py``` en una carpeta llamada ```Python``` que a su ves esta dentro de otra carpeta ```Ejemplos```, es decir, esta en el directorio ```Ejemplos/Python``` y queremos correrlo desde la terminal debemos poner el siguiente comando:\n",
    "```bash\n",
    "$ python Ejemplos/Python/TiposDatos.py\n",
    "```\n",
    "Y el programa se ejecutará.\n",
    "\n",
    "Puedes consultar los comandos básicos de la terminal PowerShell en la ubicación [Programacion-Avanzada-UP/Recursos/PowerShell](../Recursos/PowerShell.md)"
   ]
  },
  {
   "cell_type": "markdown",
   "id": "e941cb97-896e-4274-ae2b-fed2dd6be6a8",
   "metadata": {},
   "source": [
    "### C++\n",
    "- **Tipado estático**: debemos especificar el tipo de la variable en el momento de la declaración.\n",
    "- Variables: `int x = 10;`, `double y = 3.14;`\n",
    "- Principales tipos primitivos:\n",
    "  - `int`, `long`, `long long` (enteros de distinto rango)\n",
    "  - `float`, `double`, `long double` (coma flotante)\n",
    "  - `bool` (true/false)\n",
    "  - `char` (caracter)\n",
    "- También existen modificadores como `unsigned`, `signed`, etc.\n",
    "\n",
    "```cpp\n",
    "// Ejemplos/Cpp/TiposDatos.cpp\n",
    "#include <iostream>  // Para cout, cin, etc. (Modulo con Entradas y Salidas)\n",
    "\n",
    "int main() {\n",
    "    int x = 10;             // Entero\n",
    "    double y = 3.14;        // Doble precisión\n",
    "    bool esActivo = true;   // Booleano\n",
    "    char letra = 'A';       // Carácter\n",
    "\n",
    "    // Declaración de variables adicionales:\n",
    "    unsigned int numeroPositivo = 300;  // Solo valores >= 0\n",
    "    long long numeroGrande = 1234567890123; // Entero muy grande\n",
    "\n",
    "    std::cout << \"x = \" << x \n",
    "         << \", y = \" << y \n",
    "         << \", esActivo = \" << esActivo \n",
    "         << \", letra = \" << letra << \"\\n\";\n",
    "\n",
    "    std::cout << \"numeroPositivo = \" << numeroPositivo << \"\\n\";\n",
    "    std::cout << \"numeroGrande = \" << numeroGrande << \"\\n\";\n",
    "    return 0;\n",
    "}\n",
    "```\n",
    "#### ¿Por qué `std::`?\n",
    "En C++, las clases, funciones y constantes de la **biblioteca estándar** están dentro del **espacio de nombres** `std`. Así, `std::cout` indica que `cout`(el comando para salida en c++) pertenece a la **biblioteca estándar** y evita conflictos de nombres con otras librerías.\n",
    "\n",
    "**Nota:** Para correr un código de c++ primero hay que compilarlo, eso lo podemos hacer en la terminal con el comando:\n",
    "```bash\n",
    "$ g++ dierctorio/programa.cpp -o directorioEjecutable/nombreDeEjecutable\n",
    "```\n",
    "\n",
    "En este caso nuestro programa es ```TiposDatos.cpp```  que se encuentra en el directorio ```Ejemplos/Cpp``` y queremos llamarle ```DatosCpp``` al archivo ejecutable que crea el compilador y queremos guardarlo en una carpeta llamada ```Ejecutables```,  dentro de la carpeta ```Cpp``` entonces debemos poner las instrucciones:\n",
    "```bash\n",
    "$ mkdir Ejemplos/Cpp/Ejecutables\n",
    "```\n",
    "Con el cual estaremos creando la carpeta ```Ejecutables``` y ahora si podremos poner ahí el archivo que regresa el compilador con el siguiente comando:\n",
    "```bash\n",
    "$ g++ Ejemplos/Cpp/TiposDatos.cpp -o Ejemplos/Cpp/Ejecutables/DatosCpp\n",
    "```\n",
    "Para poder ejecutar el programa tambipén hay que darle la instrucción a la terminal de la siguiente manera:\n",
    "```bash\n",
    "$ ./Ejemplos/Cpp/Ejecutables/DatosCpp\n",
    "```\n",
    "\n",
    "### Operaciones en Python\n",
    "Podemos realizar operaciones aritméticas (`+`, `-`, `*`, `/`, `//`, `%`, `**`), así como operaciones lógicas (`and`, `or`, `not`). Por ejemplo:"
   ]
  },
  {
   "cell_type": "code",
   "execution_count": 3,
   "id": "d82e25a9-4786-4ab1-b153-8fcc73a53077",
   "metadata": {},
   "outputs": [
    {
     "name": "stdout",
     "output_type": "stream",
     "text": [
      "7\n",
      "3\n",
      "10\n",
      "2.5\n",
      "2\n",
      "1\n",
      "25\n",
      "True\n"
     ]
    }
   ],
   "source": [
    "x = 5\n",
    "y = 2\n",
    "print(x + y)  # 7\n",
    "print(x - y)  # 3\n",
    "print(x * y)  # 10\n",
    "print(x / y)  # 2.5\n",
    "print(x // y) # 2 (división entera)\n",
    "print(x % y)  # 1 (residuo o modulo)\n",
    "print(x ** y) # 25 (exponenciación)\n",
    "print((x > 2) and (y < 5)) # Secuencias lógicas"
   ]
  },
  {
   "cell_type": "markdown",
   "id": "f24d1647-f5eb-4911-8a20-afc9fcb6d214",
   "metadata": {},
   "source": [
    "### Operaciones en C++\n",
    "Se puede usar `+`, `-`, `*`, `/` con los tipos numéricos y también `%` con enteros, además de operadores lógicos (`&&`, `||`, `!`). Un ejemplo:\n",
    "\n",
    "```cpp\n",
    "// Ejemplos/Cpp/operaciones.cpp\n",
    "#include <iostream>\n",
    "using namespace std;\n",
    "\n",
    "int main() {\n",
    "    int a = 5;\n",
    "    int b = 2;\n",
    "\n",
    "    cout << (a + b) << \"\\n\";   // 7\n",
    "    cout << (a - b) << \"\\n\";   // 3\n",
    "    cout << (a * b) << \"\\n\";   // 10\n",
    "    cout << (a / b) << \"\\n\";   // 2 (división entera)\n",
    "    cout << (a % b) << \"\\n\";   // 1 (residuo)\n",
    "    cout << ((a > 2) && (b < 5)) << \"\\n\";  // 1 (true)\n",
    "\n",
    "    cout << boolalpha;  // El manipulador boolalpha cambia la salida de bool a true o false(En lugar de 1 o 0)\n",
    "    cout << ((a > 2) && (b < 5)) << \"\\n\";  // true\n",
    "    return 0;\n",
    "}\n",
    "```\n",
    "\n",
    "### Ejercicio\n",
    "- Compila el programa ```operaciones.cpp``` que se encuentra en el directorio:```Ejemplos/Cpp```y guarda el ejecutable en el directorio: ```Ejemplos/Cpp/Ejecutables```.\n",
    "- ¿Qué hace la instrucción ```boolalpha```? ¿Para qué crees que ser útil?" Cambia la salida de bool a true / false en vez de 1/0
   ]
  },
  {
   "cell_type": "code",
   "execution_count": 4,
   "id": "821dc250",
   "metadata": {
    "executionInfo": {}
   },
   "outputs": [
    {
     "name": "stdout",
     "output_type": "stream",
     "text": [
      "Tipos: <class 'int'> <class 'float'> <class 'str'> <class 'bool'>\n",
      "Suma: 15\n",
      "Área aproximada: 12.56636\n",
      "Hola, mundo!\n",
      "Negación del estado: True\n"
     ]
    }
   ],
   "source": [
    "# Ejemplo adicional en Python (mezcla de operaciones)\n",
    "x = 10                # int\n",
    "pi = 3.14159          # float\n",
    "mensaje = \"Hola\"     # str\n",
    "estado = False        # bool\n",
    "\n",
    "# Operaciones simples\n",
    "suma = x + 5        \n",
    "area = pi * (2 ** 2)  # Área de un círculo de radio 2\n",
    "saludo = mensaje + \", mundo!\"\n",
    "\n",
    "print(\"Tipos:\", type(x), type(pi), type(mensaje), type(estado))\n",
    "print(\"Suma:\", suma)\n",
    "print(\"Área aproximada:\", area)\n",
    "print(saludo)\n",
    "print(\"Negación del estado:\", not estado)"
   ]
  },
  {
   "cell_type": "markdown",
   "id": "190d512d-a8bb-493d-b481-0bdfd286a8c5",
   "metadata": {},
   "source": [
    "## 1.2 Manejo básico de datos\n",
    "\n",
    "### Python\n",
    "- **Listas**: `mi_lista = [1, 2, 3]`\n",
    "  - Pueden aumentar o disminuir de tamaño dinámicamente, y pueden contener elementos de distintos tipos.\n",
    "- **Diccionarios**: `mi_dict = {\"clave\": \"valor\"}`\n",
    "  - Estructura de pares clave-valor, muy útil para búsquedas rápidas.\n",
    "- **NumPy arrays**: `np.array([1, 2, 3])`\n",
    "  - Arreglos de tamaño fijo y tipos homogéneos, muy eficientes para cálculos numéricos.\n",
    "\n",
    "A continuación, un ejemplo con cada uno y como agregar elementos a ellos:"
   ]
  },
  {
   "cell_type": "code",
   "execution_count": 4,
   "id": "4b990b50-1f63-4d24-941f-2d2762669067",
   "metadata": {},
   "outputs": [
    {
     "name": "stdout",
     "output_type": "stream",
     "text": [
      "Lista: [10, 20, 30, 40]\n",
      "Diccionario: {'nombre': 'Alice', 'edad': 25, 'pais': 'México'}\n",
      "NumPy array: [1 2 3 4 5]\n"
     ]
    }
   ],
   "source": [
    "import numpy as np\n",
    "\n",
    "# Lista\n",
    "lista = [10, 20, 30]\n",
    "lista.append(40)\n",
    "print(\"Lista:\", lista)\n",
    "\n",
    "# Diccionario\n",
    "dicc = {\"nombre\": \"Alice\", \"edad\": 25}\n",
    "dicc[\"pais\"] = \"México\"\n",
    "print(\"Diccionario:\", dicc)\n",
    "\n",
    "# NumPy array\n",
    "arr = np.array([1, 2, 3, 4, 5])\n",
    "print(\"NumPy array:\", arr)"
   ]
  },
  {
   "cell_type": "markdown",
   "id": "3cfc6f8f-18f5-4962-bd6c-d5d6daab0d90",
   "metadata": {},
   "source": [
    "### C++\n",
    "- **Arreglos estáticos**: `int arr[5] = {1,2,3,4,5};` (tamaño fijo).\n",
    "- **`std::vector`**: tamaño dinámico, requiere `#include <vector>`.\n",
    "\n",
    "```cpp\n",
    "// Ejemplos/Cpp/arreglos.cpp\n",
    "#include <iostream>\n",
    "#include <vector>\n",
    "using namespace std;  // Para no escribir std:: en cada uso\n",
    "\n",
    "int main() {\n",
    "    // Ejemplo de vector\n",
    "    vector<int> vec = {10, 20, 30};\n",
    "    vec.push_back(40);\n",
    "\n",
    "    cout << \"Contenido de vec:\" << std::endl;\n",
    "    for(int i = 0; i < vec.size(); i++) {\n",
    "        cout << vec[i] << \" \";\n",
    "    }\n",
    "    cout << endl;\n",
    "\n",
    "    return 0;\n",
    "}\n",
    "```\n",
    "\n",
    "### Ejercicio\n",
    "- Compila el programa ```arreglos.cpp``` que se encuentra en el directorio:```Ejemplos/Cpp```y guarda el ejecutable en el directorio: ```Ejemplos/Cpp/Ejecutables```.\n",
    "- ¿Qué hace la instrucción ```vec.push_back(40)```? "
   ]
  },
  {
   "cell_type": "markdown",
   "id": "4bae9775-8080-4bea-9989-2c730e5114ed",
   "metadata": {},
   "source": [
    "## 1.3 Estructuras de control y funciones: `def` (Python) vs. funciones en C++\n",
    "\n",
    "### Python\n",
    "1. **Estructuras de control**:\n",
    "   - `if`, `elif`, `else`: permiten condiciones.\n",
    "   - `for`: itera sobre los elementos de un iterable (lista, rango, etc.).\n",
    "   - `while`: repite un bloque de código mientras la condición sea verdadera.\n",
    "\n",
    "#### Ejemplos:"
   ]
  },
  {
   "cell_type": "code",
   "execution_count": 6,
   "id": "b6671634-81ab-4d30-a546-83b0b052aed4",
   "metadata": {},
   "outputs": [
    {
     "name": "stdout",
     "output_type": "stream",
     "text": [
      "x está entre 10 y 19\n",
      "i es 0\n",
      "i es 1\n",
      "i es 2\n",
      "contador = 0\n",
      "contador = 1\n",
      "contador = 2\n"
     ]
    }
   ],
   "source": [
    "# if, elif, else\n",
    "x = 15\n",
    "if x < 10:\n",
    "    print(\"x es menor que 10\")\n",
    "elif x < 20:\n",
    "    print(\"x está entre 10 y 19\")\n",
    "else:\n",
    "    print(\"x es 20 o mayor\")\n",
    "\n",
    "# for con range\n",
    "for i in range(3):\n",
    "    print(\"i es\", i)\n",
    "\n",
    "# while\n",
    "contador = 0\n",
    "while contador < 3:\n",
    "    print(\"contador =\", contador)\n",
    "    contador += 1"
   ]
  },
  {
   "cell_type": "markdown",
   "id": "7af44911-36ba-470a-8dbb-44bba10012e8",
   "metadata": {},
   "source": [
    "2. **Funciones**: se definen con `def nombre_funcion(parametros):` y se indentan los bloques."
   ]
  },
  {
   "cell_type": "code",
   "execution_count": 5,
   "id": "494ff4f1-1dbb-4473-90ef-5147a8475218",
   "metadata": {},
   "outputs": [
    {
     "name": "stdout",
     "output_type": "stream",
     "text": [
      "Hola, Lalo!\n",
      "7\n"
     ]
    }
   ],
   "source": [
    "def saludar(nombre):\n",
    "    print(f\"Hola, {nombre}!\")\n",
    "\n",
    "def sumar(a, b=0):\n",
    "    return a + b\n",
    "\n",
    "saludar(\"Lalo\")\n",
    "print(sumar(3,4))"
   ]
  },
  {
   "cell_type": "markdown",
   "id": "f0c08b1c-0e37-4a7a-9faa-fdd68ba77ab8",
   "metadata": {},
   "source": [
    "### C++\n",
    "1. **Estructuras de control**:\n",
    "   - `if`, `else if`, `else`: igual a Python, pero con sintaxis `{}` para delimitar bloques.\n",
    "   - `for` (inicialización; condición; actualización): `for(int i=0; i<3; i++) { ... }`\n",
    "   - `while`: se ejecuta mientras la condición sea verdadera.\n",
    "   - `do-while`: se ejecuta al menos una vez, y luego repite mientras la condición sea verdadera.\n",
    "\n",
    "#### Ejemplo con todas:\n",
    "```cpp\n",
    "// Ejemplos/Cpp/EstructurasControl.cpp\n",
    "#include <iostream>  // Para cout, cin, etc. (Entradas y Salidas)\n",
    "using namespace std;  // Para no escribir std:: en cada uso\n",
    "\n",
    "// #include <iostream> es para usar cout, cin, etc.\n",
    "// using namespace std; nos evita tener que escribir std:: constantemente\n",
    "\n",
    "int main() {\n",
    "    int x = 15;\n",
    "\n",
    "    // if, else if, else\n",
    "    if(x < 10) {\n",
    "        cout << \"x es menor que 10\\n\";\n",
    "    } else if(x < 20) {\n",
    "        cout << \"x está entre 10 y 19\\n\";\n",
    "    } else {\n",
    "        cout << \"x es 20 o mayor\\n\";\n",
    "    }\n",
    "\n",
    "    // for\n",
    "    for(int i = 0; i < 3; i++) {\n",
    "        cout << \"i = \" << i << \"\\n\";\n",
    "    }\n",
    "\n",
    "    // while\n",
    "    int contador = 0;\n",
    "    while(contador < 3) {\n",
    "        cout << \"contador = \" << contador << \"\\n\";\n",
    "        contador++;\n",
    "    }\n",
    "\n",
    "    // do-while\n",
    "    int j = 0;\n",
    "    do {\n",
    "        cout << \"j = \" << j << \"\\n\";\n",
    "        j++;\n",
    "    } while(j < 3);\n",
    "\n",
    "    return 0;\n",
    "}\n",
    "```\n",
    "\n",
    "2. **Funciones**: se definen indicando el **tipo de retorno**, el **nombre** y los **parámetros** (con sus tipos).\n",
    "\n",
    "```cpp\n",
    "// Ejemplos/Cpp/Funciones.cpp\n",
    "#include <iostream>  // Para cout, cin, etc. (Entradas y Salidas)\n",
    "using namespace std; // Para no escribir std:: en cada uso\n",
    "\n",
    "// Función que no retorna valor (void)\n",
    "void saludar(string nombre) {\n",
    "    cout << \"Hola, \" << nombre << \"!\\n\";\n",
    "}\n",
    "\n",
    "// Función que retorna un entero\n",
    "int sumar(int a, int b=5) {\n",
    "    return a + b;\n",
    "}\n",
    "\n",
    "int main() {\n",
    "    saludar(\"Bob\");\n",
    "    cout << sumar(3,4) << \"\\n\";\n",
    "    return 0;\n",
    "}\n",
    "```"
   ]
  },
  {
   "cell_type": "markdown",
   "id": "7914931c",
   "metadata": {},
   "source": [
    "## 1.4 Módulos (Python) vs. archivos `.h`/`.cpp` (C++)\n",
    "\n",
    "### Python\n",
    "- Un _módulo_ es simplemente un archivo `.py` con funciones, clases o variables que pueden importarse en otros archivos.\n",
    "- Para importar, usamos `import nombre_modulo` o `from nombre_modulo import funcion`.\n",
    "- Ejemplo:\n",
    "  1. Creamos un archivo `utilidades.py` con una función `saludar()`.\n",
    "  2. En `main.py`, escribimos `import utilidades` y llamamos `utilidades.saludar(\"Lalo\")`.\n",
    "\n",
    "### C++\n",
    "- Se dividen en **archivos de cabecera** (`.h` o `.hpp`) y **archivos de implementación** (`.cpp`).\n",
    "- El archivo `.h` contiene **declaraciones** (prototipos de funciones, declaraciones de clases).\n",
    "- El archivo `.cpp` contiene la **implementación**.\n",
    "- Uso de `#include \"miarchivo.h\"` para incluir los prototipos. Luego se compila junto con el `.cpp`.\n"
   ]
  },
  {
   "cell_type": "markdown",
   "id": "f2105007",
   "metadata": {},
   "source": [
    "```cpp\n",
    "// utilidades.h  \n",
    "#ifndef UTILIDADES_H\n",
    "#define UTILIDADES_H\n",
    "#include <string>          // <-- Necesario para std::string\n",
    "\n",
    "void saludar(const std::string &nombre);\n",
    "\n",
    "#endif\n",
    "```\n",
    "\n",
    "Explicación de cada línea:\n",
    "- `#ifndef UTILIDADES_H` y `#define UTILIDADES_H`: son **directivas de preprocesador** que evitan la inclusión múltiple del mismo archivo (guardas de inclusión).\n",
    "- `void saludar(const std::string &nombre);`: prototipo de la función `saludar`.\n",
    "- `#endif`: cierra la condición `#ifndef`.\n",
    "\n",
    "```cpp\n",
    "// Ejemplos\\Cpp\\Cabecera_Implementacion/utilidades.cpp   \n",
    "#include <iostream>          // Para usar cout\n",
    "#include \"utilidades.h\"      // Incluye el prototipo de saludar\n",
    "using namespace std;         // Evitamos usar std:: en cada uso\n",
    "\n",
    "void saludar(const std::string &nombre) {\n",
    "    cout << \"Hola, \" << nombre << \"!\" << endl;\n",
    "}\n",
    "```\n",
    "\n",
    "Explicación:\n",
    "- `#include <iostream>`: incluye la librería para `cout`.\n",
    "- `#include \"utilidades.h\"`: incluye la cabecera con la declaración de `saludar`.\n",
    "- `using namespace std;`: nos permite usar `cout` sin poner `std::cout`.\n",
    "- La función `saludar` imprime un saludo con la variable `nombre`.\n",
    "\n",
    "```cpp\n",
    "// main.cpp\n",
    "#include \"utilidades.h\"\n",
    "#include <string>\n",
    "\n",
    "int main() {\n",
    "    saludar(\"Carlos\");\n",
    "    return 0;\n",
    "}\n",
    "```\n",
    "#### Cómo compilar y ejecutar con g++\n",
    "Suponiendo que tenemos los siguientes archivos en el directorio ```Ejemplos/Cpp/Cabecera_Implementacion```:\n",
    "- `utilidades.h` y `utilidades.cpp` (funciones implementadas)\n",
    "- `main.cpp`\n",
    "  \n",
    "Si primero nos posicionamos en el directorio:\n",
    "```bash\n",
    "$ cd Ejemplos/Cpp/Cabecera_Implementacion\n",
    "```\n",
    "Podemos compilar todo en un único paso:\n",
    "```bash\n",
    "$ g++ main.cpp utilidades.cpp -o programa\n",
    "```\n",
    "Esto generará un archivo .exe llamado `programa` que podemos ejecutar con el comando:\n",
    "```bash\n",
    "$ ./programa\n",
    "```\n",
    "\n",
    "### Ejercicio (Módulos / Archivos)\n",
    "1. En Python, crea un archivo `operaciones.py` con funciones de suma, resta y multiplicación y guardalo en el directorio ```\\Ejemplos\\Python\\Modulos```. Importe ese módulo desde un cuaderno o archivo principal para probarlas.\n",
    "2. En C++, crea un archivo `operaciones.h` y `operaciones.cpp` con una función `int multiplicar(int, int)` en el directorio ```Ejemplos\\Cpp\\Cabecera_Implementacion/Ejercicio```. Luego llama a esa función desde `main.cpp` para comprobar su funcionamiento.\n"
   ]
  },
  {
   "cell_type": "markdown",
   "id": "f2105017",
   "metadata": {},
   "source": [
    "## Conclusión \n",
    "\n",
    "En este bloque hemos revisado:\n",
    "1. **Tipos de datos** y **variables** en Python y C++.\n",
    "2. **Estructuras de control** y **funciones**.\n",
    "3. Organización de código en **módulos/archivos**.\n",
    "4. **Manejo básico de datos** (listas, diccionarios, NumPy arrays en Python y `std::vector` en C++).\n",
    "\n",
    "### Tareas Adicionales (Extra)\n",
    "1. Investiga sobre el uso de **plantillas (templates)** en C++ y compáralo con la flexibilidad del tipado dinámico en Python.\n",
    "2. Crea un pequeño proyecto en C++ con al menos 2 archivos `.h`, 2 archivos `.cpp` y un `main.cpp` que utilice funciones entre ellos.\n",
    "3. En Python, practica la creación de módulos con varios archivos `.py` e inténtalo combinar con cuadernos Jupyter.\n"
   ]
  }
 ],
 "metadata": {
  "kernelspec": {
   "display_name": "Python 3 (ipykernel)",
   "language": "python",
   "name": "python3"
  },
  "language_info": {
   "codemirror_mode": {
    "name": "ipython",
    "version": 3
   },
   "file_extension": ".py",
   "mimetype": "text/x-python",
   "name": "python",
   "nbconvert_exporter": "python",
   "pygments_lexer": "ipython3",
   "version": "3.13.1"
  }
 },
 "nbformat": 4,
 "nbformat_minor": 5
}
